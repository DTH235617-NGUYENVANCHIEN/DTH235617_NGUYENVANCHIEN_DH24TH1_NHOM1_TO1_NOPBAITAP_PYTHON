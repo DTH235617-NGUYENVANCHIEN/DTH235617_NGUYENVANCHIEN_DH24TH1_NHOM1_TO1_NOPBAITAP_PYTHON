{
 "cells": [
  {
   "cell_type": "markdown",
   "id": "93919768",
   "metadata": {},
   "source": [
    "## Câu 1"
   ]
  },
  {
   "cell_type": "code",
   "execution_count": null,
   "id": "c571b23a",
   "metadata": {},
   "outputs": [],
   "source": []
  },
  {
   "cell_type": "markdown",
   "id": "a1fa8e65",
   "metadata": {},
   "source": [
    "## Câu 2"
   ]
  },
  {
   "cell_type": "code",
   "execution_count": null,
   "id": "cd899b7e",
   "metadata": {},
   "outputs": [],
   "source": []
  },
  {
   "cell_type": "markdown",
   "id": "06a9ec3f",
   "metadata": {},
   "source": [
    "## Câu 3"
   ]
  },
  {
   "cell_type": "code",
   "execution_count": null,
   "id": "c4be261f",
   "metadata": {},
   "outputs": [],
   "source": []
  },
  {
   "cell_type": "markdown",
   "id": "14ad0c84",
   "metadata": {},
   "source": [
    "## Câu 4"
   ]
  },
  {
   "cell_type": "code",
   "execution_count": null,
   "id": "751378e9",
   "metadata": {},
   "outputs": [],
   "source": []
  },
  {
   "cell_type": "markdown",
   "id": "39255c3f",
   "metadata": {},
   "source": [
    "## Câu 5"
   ]
  },
  {
   "cell_type": "code",
   "execution_count": null,
   "id": "c07b2eca",
   "metadata": {},
   "outputs": [],
   "source": []
  },
  {
   "cell_type": "markdown",
   "id": "bf94a297",
   "metadata": {},
   "source": [
    "## Câu 6"
   ]
  },
  {
   "cell_type": "code",
   "execution_count": null,
   "id": "f5cab886",
   "metadata": {},
   "outputs": [],
   "source": []
  },
  {
   "cell_type": "markdown",
   "id": "431451c4",
   "metadata": {},
   "source": [
    "## Câu 7"
   ]
  },
  {
   "cell_type": "code",
   "execution_count": null,
   "id": "bb3a3f0f",
   "metadata": {},
   "outputs": [],
   "source": []
  },
  {
   "cell_type": "markdown",
   "id": "c8c834aa",
   "metadata": {},
   "source": [
    "## Câu 8"
   ]
  },
  {
   "cell_type": "code",
   "execution_count": null,
   "id": "125a9560",
   "metadata": {},
   "outputs": [],
   "source": []
  },
  {
   "cell_type": "markdown",
   "id": "16ed1e58",
   "metadata": {},
   "source": [
    "## Câu 9"
   ]
  },
  {
   "cell_type": "code",
   "execution_count": null,
   "id": "f5d6eb74",
   "metadata": {},
   "outputs": [],
   "source": []
  },
  {
   "cell_type": "markdown",
   "id": "c1094b34",
   "metadata": {},
   "source": [
    "## Câu 10"
   ]
  },
  {
   "cell_type": "code",
   "execution_count": null,
   "id": "c19d65e3",
   "metadata": {},
   "outputs": [],
   "source": []
  },
  {
   "cell_type": "markdown",
   "id": "ad7ca60a",
   "metadata": {},
   "source": [
    "## Câu 11"
   ]
  },
  {
   "cell_type": "code",
   "execution_count": null,
   "id": "d51bd7fa",
   "metadata": {},
   "outputs": [],
   "source": []
  },
  {
   "cell_type": "markdown",
   "id": "222c53b8",
   "metadata": {},
   "source": [
    "## Câu 12"
   ]
  },
  {
   "cell_type": "code",
   "execution_count": null,
   "id": "72a288f1",
   "metadata": {},
   "outputs": [],
   "source": []
  },
  {
   "cell_type": "markdown",
   "id": "41aaa6f1",
   "metadata": {},
   "source": [
    "## Câu 13"
   ]
  },
  {
   "cell_type": "code",
   "execution_count": null,
   "id": "9901b2cd",
   "metadata": {},
   "outputs": [],
   "source": []
  },
  {
   "cell_type": "markdown",
   "id": "106fbb60",
   "metadata": {},
   "source": [
    "## Câu 14"
   ]
  },
  {
   "cell_type": "code",
   "execution_count": null,
   "id": "eea5e731",
   "metadata": {},
   "outputs": [],
   "source": []
  },
  {
   "cell_type": "markdown",
   "id": "fca152c8",
   "metadata": {},
   "source": [
    "## Câu 15"
   ]
  },
  {
   "cell_type": "code",
   "execution_count": null,
   "id": "50085de5",
   "metadata": {},
   "outputs": [],
   "source": []
  }
 ],
 "metadata": {
  "language_info": {
   "name": "python"
  }
 },
 "nbformat": 4,
 "nbformat_minor": 5
}

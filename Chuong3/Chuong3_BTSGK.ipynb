{
 "cells": [
  {
   "cell_type": "markdown",
   "id": "f2ee41d0",
   "metadata": {},
   "source": [
    "## Câu 1"
   ]
  },
  {
   "cell_type": "code",
   "execution_count": 19,
   "id": "9111c664",
   "metadata": {},
   "outputs": [
    {
     "name": "stdout",
     "output_type": "stream",
     "text": [
      "Kết quả: Truong Trung Hoc Pho Thong\n"
     ]
    }
   ],
   "source": [
    "#Câu 1\n",
    "# Bài tập thực hành: Đổi chữ cái đầu mỗi từ thành chữ hoa\n",
    "\n",
    "s = input(\"Nhập câu: \")\n",
    "# Tách các từ bằng khoảng trắng hoặc tab, viết hoa chữ cái đầu mỗi từ\n",
    "result = ' '.join(word.capitalize() for word in s.split())\n",
    "print(\"Kết quả:\", result)"
   ]
  },
  {
   "cell_type": "markdown",
   "id": "a8c4ed38",
   "metadata": {},
   "source": [
    "## Câu 2"
   ]
  },
  {
   "cell_type": "code",
   "execution_count": 2,
   "id": "6faa1a09",
   "metadata": {},
   "outputs": [
    {
     "name": "stdout",
     "output_type": "stream",
     "text": [
      "Chiều dài chuỗi: 16\n",
      "Ký tự đầu: N\n",
      "Ký tự cuối: n\n",
      "Các ký tự từ vị trí 3 đến 5 : yễn\n"
     ]
    }
   ],
   "source": [
    "# Câu 2\n",
    "s = input(\"Nhập chuỗi: \")\n",
    "print(\"Chiều dài chuỗi:\", len(s))\n",
    "print(\"Ký tự đầu:\", s[0] if s else \"\")\n",
    "print(\"Ký tự cuối:\", s[-1] if s else \"\")\n",
    "i = int(input(\"Nhập vị trí i: \"))\n",
    "j = int(input(\"Nhập vị trí j: \"))\n",
    "print(\"Các ký tự từ vị trí\", i, \"đến\", j, \":\", s[i:j+1])"
   ]
  },
  {
   "cell_type": "markdown",
   "id": "a362935d",
   "metadata": {},
   "source": [
    "## Câu 3"
   ]
  },
  {
   "cell_type": "code",
   "execution_count": 3,
   "id": "fd563a4c",
   "metadata": {},
   "outputs": [
    {
     "name": "stdout",
     "output_type": "stream",
     "text": [
      "0000\n",
      "0001\n",
      "0010\n",
      "0011\n",
      "0100\n",
      "0101\n",
      "0110\n",
      "0111\n",
      "1000\n",
      "1001\n",
      "1010\n",
      "1011\n",
      "1100\n",
      "1101\n",
      "1110\n",
      "1111\n"
     ]
    }
   ],
   "source": [
    "# Câu 3\n",
    "n = int(input(\"Nhập chiều dài n: \"))\n",
    "for i in range(2**n):\n",
    "    print(bin(i)[2:].zfill(n))"
   ]
  },
  {
   "cell_type": "markdown",
   "id": "10a9de7b",
   "metadata": {},
   "source": [
    "## Câu 4"
   ]
  },
  {
   "cell_type": "code",
   "execution_count": 4,
   "id": "f3f4a314",
   "metadata": {},
   "outputs": [
    {
     "name": "stdout",
     "output_type": "stream",
     "text": [
      "Chuỗi đảo ngược:  năV nếihC\n",
      "Số chữ cái: 8\n",
      "Số chữ số: 0\n"
     ]
    }
   ],
   "source": [
    "# Câu 4\n",
    "s = input(\"Nhập chuỗi: \")\n",
    "print(\"Chuỗi đảo ngược:\", s[::-1])\n",
    "so_chu_cai = sum(c.isalpha() for c in s)\n",
    "so_chu_so = sum(c.isdigit() for c in s)\n",
    "print(\"Số chữ cái:\", so_chu_cai)\n",
    "print(\"Số chữ số:\", so_chu_so)"
   ]
  },
  {
   "cell_type": "markdown",
   "id": "ce5201cc",
   "metadata": {},
   "source": [
    "## Câu 5"
   ]
  },
  {
   "cell_type": "code",
   "execution_count": 5,
   "id": "b01cf1e8",
   "metadata": {},
   "outputs": [
    {
     "name": "stdout",
     "output_type": "stream",
     "text": [
      "Chuỗi đối xứng\n"
     ]
    }
   ],
   "source": [
    "# Câu 5\n",
    "s = input(\"Nhập chuỗi: \")\n",
    "if s == s[::-1]:\n",
    "    print(\"Chuỗi đối xứng\")\n",
    "else:\n",
    "    print(\"Chuỗi không đối xứng\")"
   ]
  },
  {
   "cell_type": "markdown",
   "id": "5e92b011",
   "metadata": {},
   "source": [
    "## Câu 6"
   ]
  },
  {
   "cell_type": "code",
   "execution_count": 6,
   "id": "7d26b9ea",
   "metadata": {},
   "outputs": [
    {
     "name": "stdout",
     "output_type": "stream",
     "text": [
      "Chuỗi con chung dài nhất: Nguyễn Văn\n"
     ]
    }
   ],
   "source": [
    "# Câu 6\n",
    "def longest_common_substring(s1, s2):\n",
    "    max_len = 0\n",
    "    res = \"\"\n",
    "    for i in range(len(s1)):\n",
    "        for j in range(i+1, len(s1)+1):\n",
    "            sub = s1[i:j]\n",
    "            if sub in s2 and len(sub) > max_len:\n",
    "                max_len = len(sub)\n",
    "                res = sub\n",
    "    return res\n",
    "\n",
    "s1 = input(\"Nhập chuỗi 1: \")\n",
    "s2 = input(\"Nhập chuỗi 2: \")\n",
    "print(\"Chuỗi con chung dài nhất:\", longest_common_substring(s1, s2))"
   ]
  },
  {
   "cell_type": "markdown",
   "id": "7721d70a",
   "metadata": {},
   "source": [
    "## Câu 7"
   ]
  },
  {
   "cell_type": "code",
   "execution_count": 7,
   "id": "5a2fa4fa",
   "metadata": {},
   "outputs": [
    {
     "name": "stdout",
     "output_type": "stream",
     "text": [
      "Số ký tự ít nhất cần thêm: 10\n"
     ]
    }
   ],
   "source": [
    "# Câu 7\n",
    "def min_add_to_palindrome(s):\n",
    "    for i in range(len(s)):\n",
    "        if s[i:] == s[i:][::-1]:\n",
    "            return i\n",
    "    return len(s)\n",
    "\n",
    "S = input(\"Nhập chuỗi S: \")\n",
    "print(\"Số ký tự ít nhất cần thêm:\", min_add_to_palindrome(S))"
   ]
  },
  {
   "cell_type": "markdown",
   "id": "4793f9bd",
   "metadata": {},
   "source": [
    "## Câu 8"
   ]
  },
  {
   "cell_type": "code",
   "execution_count": 8,
   "id": "dae061d3",
   "metadata": {},
   "outputs": [
    {
     "name": "stdout",
     "output_type": "stream",
     "text": [
      "Chuỗi s2 xuất hiện ở vị trí 5 trong s1.\n"
     ]
    }
   ],
   "source": [
    "# Câu 8\n",
    "s1 = input(\"Nhập chuỗi s1: \")\n",
    "s2 = input(\"Nhập chuỗi s2: \")\n",
    "pos = s1.find(s2)\n",
    "if pos != -1:\n",
    "    print(f\"Chuỗi s2 xuất hiện ở vị trí {pos} trong s1.\")\n",
    "else:\n",
    "    print(\"Không tìm thấy.\")"
   ]
  },
  {
   "cell_type": "markdown",
   "id": "eae5ce97",
   "metadata": {},
   "source": [
    "## Câu 9"
   ]
  },
  {
   "cell_type": "code",
   "execution_count": 9,
   "id": "d39f8919",
   "metadata": {},
   "outputs": [
    {
     "name": "stdout",
     "output_type": "stream",
     "text": [
      "Chuỗi CCCD hợp lệ\n"
     ]
    }
   ],
   "source": [
    "# Câu 9\n",
    "cccd = input(\"Nhập chuỗi CCCD: \")\n",
    "if cccd.isdigit() and 9 <= len(cccd) <= 12:\n",
    "    print(\"Chuỗi CCCD hợp lệ\")\n",
    "else:\n",
    "    print(\"Chuỗi CCCD không hợp lệ\")"
   ]
  },
  {
   "cell_type": "markdown",
   "id": "945fc076",
   "metadata": {},
   "source": [
    "## Câu 10"
   ]
  },
  {
   "cell_type": "code",
   "execution_count": 18,
   "id": "7c6e50a6",
   "metadata": {},
   "outputs": [
    {
     "name": "stdout",
     "output_type": "stream",
     "text": [
      "Địa chỉ email hợp lệ\n"
     ]
    }
   ],
   "source": [
    "# Câu 10\n",
    "email = input(\"Nhập địa chỉ email: \")\n",
    "if \"@\" in email and \".\" in email and email.count(\"@\") == 1:\n",
    "    at_pos = email.index(\"@\")\n",
    "    dot_pos = email.rindex(\".\")\n",
    "    if at_pos > 0 and dot_pos > at_pos + 1 and dot_pos < len(email) - 1:\n",
    "        print(\"Địa chỉ email hợp lệ\")\n",
    "    else:\n",
    "        print(\"Địa chỉ email không hợp lệ\")\n",
    "else:\n",
    "    print(\"Địa chỉ email không hợp lệ\")"
   ]
  },
  {
   "cell_type": "markdown",
   "id": "62ed74d4",
   "metadata": {},
   "source": [
    "## Câu 11"
   ]
  },
  {
   "cell_type": "code",
   "execution_count": 17,
   "id": "bc7b6e2c",
   "metadata": {},
   "outputs": [
    {
     "name": "stdout",
     "output_type": "stream",
     "text": [
      "Các số trên các dòng riêng biệt:\n",
      "5\n",
      "7\n",
      "8\n",
      "11\n",
      "13\n",
      "9\n",
      "10\n",
      "Có 2 chữ số chẵn\n",
      "Có 0 chữ số âm\n",
      "Có 4 chữ số nguyên tố\n",
      "Giá trị trung bình của các chữ số: 9.0\n"
     ]
    }
   ],
   "source": [
    "# Câu 11: Xử lý tách chuỗi số\n",
    "s = input(\"Nhập chuỗi số, cách nhau bởi dấu ; hoặc ,: \")\n",
    "# Tách các số, loại bỏ khoảng trắng\n",
    "nums = [x.strip() for x in s.replace(',', ';').split(';') if x.strip() != '']\n",
    "nums_int = []\n",
    "for x in nums:\n",
    "    try:\n",
    "        nums_int.append(int(x))\n",
    "    except ValueError:\n",
    "        pass\n",
    "\n",
    "print(\"Các số trên các dòng riêng biệt:\")\n",
    "for n in nums_int:\n",
    "    print(n)\n",
    "\n",
    "print(\"Có\", sum(n % 2 == 0 for n in nums_int), \"chữ số chẵn\")\n",
    "print(\"Có\", sum(n < 0 for n in nums_int), \"chữ số âm\")\n",
    "\n",
    "def is_prime(n):\n",
    "    if n < 2: return False\n",
    "    for i in range(2, int(abs(n)**0.5)+1):\n",
    "        if n % i == 0: return False\n",
    "    return True\n",
    "\n",
    "print(\"Có\", sum(is_prime(n) for n in nums_int), \"chữ số nguyên tố\")\n",
    "if nums_int:\n",
    "    print(\"Giá trị trung bình của các chữ số:\", round(sum(nums_int)/len(nums_int), 2))\n",
    "else:\n",
    "    print(\"Không có số hợp lệ.\")"
   ]
  },
  {
   "cell_type": "markdown",
   "id": "1994e0d8",
   "metadata": {},
   "source": [
    "## Câu 12"
   ]
  },
  {
   "cell_type": "code",
   "execution_count": 12,
   "id": "692be1da",
   "metadata": {},
   "outputs": [
    {
     "name": "stdout",
     "output_type": "stream",
     "text": [
      "Số chữ IN HOA: 2\n",
      "Số chữ in thường: 9\n",
      "Số chữ là chữ số: 2\n",
      "Số ký tự đặc biệt: 2\n",
      "Số ký tự là khoảng trắng: 0\n",
      "Số chữ là Nguyên Âm: 3\n",
      "Số chữ là Phụ Âm: 7\n"
     ]
    }
   ],
   "source": [
    "# Câu 12: Thống kê ký tự trong chuỗi\n",
    "s = input(\"Nhập chuỗi: \")\n",
    "\n",
    "so_in_hoa = sum(c.isupper() for c in s)\n",
    "so_thuong = sum(c.islower() for c in s)\n",
    "so_chu_so = sum(c.isdigit() for c in s)\n",
    "so_dac_biet = sum(not c.isalnum() for c in s)\n",
    "so_khoang_trang = sum(c.isspace() for c in s)\n",
    "\n",
    "nguyen_am = \"aeiouAEIOU\"\n",
    "phu_am = \"bcdfghjklmnpqrstvwxyzBCDFGHJKLMNPQRSTVWXYZ\"\n",
    "\n",
    "so_nguyen_am = sum(c in nguyen_am for c in s)\n",
    "so_phu_am = sum(c in phu_am for c in s)\n",
    "\n",
    "print(\"Số chữ IN HOA:\", so_in_hoa)\n",
    "print(\"Số chữ in thường:\", so_thuong)\n",
    "print(\"Số chữ là chữ số:\", so_chu_so)\n",
    "print(\"Số ký tự đặc biệt:\", so_dac_biet)\n",
    "print(\"Số ký tự là khoảng trắng:\", so_khoang_trang)\n",
    "print(\"Số chữ là Nguyên Âm:\", so_nguyen_am)\n",
    "print(\"Số chữ là Phụ Âm:\", so_phu_am)"
   ]
  },
  {
   "cell_type": "markdown",
   "id": "ec8998aa",
   "metadata": {},
   "source": [
    "## Câu 13"
   ]
  },
  {
   "cell_type": "code",
   "execution_count": 16,
   "id": "dd4fe253",
   "metadata": {},
   "outputs": [
    {
     "name": "stdout",
     "output_type": "stream",
     "text": [
      "Các số nguyên âm trong chuỗi là: [-5, -12]\n"
     ]
    }
   ],
   "source": [
    "# Câu 13: Trích lọc số âm trong chuỗi\n",
    "import re\n",
    "\n",
    "def NegativeNumberInStrings(s):\n",
    "    # Tìm tất cả số nguyên âm, có thể có nhiều ký tự giữa các số\n",
    "    return [int(x) for x in re.findall(r'-\\d+', s)]\n",
    "\n",
    "chuoi = input(\"Nhập chuỗi: \")\n",
    "so_am = NegativeNumberInStrings(chuoi)\n",
    "print(\"Các số nguyên âm trong chuỗi là:\", so_am)"
   ]
  },
  {
   "cell_type": "markdown",
   "id": "f3b801cf",
   "metadata": {},
   "source": [
    "## Câu 14"
   ]
  },
  {
   "cell_type": "code",
   "execution_count": 14,
   "id": "bd717802",
   "metadata": {},
   "outputs": [
    {
     "name": "stdout",
     "output_type": "stream",
     "text": [
      "Chuỗi họ tên sau khi chuẩn hóa là: Ngyuễn Văn Hậu\n"
     ]
    }
   ],
   "source": [
    "# Câu 14: Chuẩn hóa chuỗi họ tên\n",
    "\n",
    "def chuan_hoa_ho_ten(s):\n",
    "    # Loại bỏ khoảng trắng đầu/cuối\n",
    "    s = s.strip()\n",
    "    # Tách các từ, loại bỏ khoảng trắng thừa giữa các từ\n",
    "    words = [w for w in s.split() if w]\n",
    "    # Viết hoa chữ cái đầu mỗi từ, các ký tự còn lại viết thường\n",
    "    return ' '.join(w.capitalize() for w in words)\n",
    "\n",
    "s = input(\"Nhập họ tên: \")\n",
    "print(\"Chuỗi họ tên sau khi chuẩn hóa là:\", chuan_hoa_ho_ten(s))"
   ]
  },
  {
   "cell_type": "markdown",
   "id": "1329179c",
   "metadata": {},
   "source": [
    "## Câu 15"
   ]
  },
  {
   "cell_type": "code",
   "execution_count": 15,
   "id": "ad94042c",
   "metadata": {},
   "outputs": [
    {
     "name": "stdout",
     "output_type": "stream",
     "text": [
      "Các mật khẩu hợp lệ là: ABd1234@1\n"
     ]
    }
   ],
   "source": [
    "# Câu 15: Kiểm tra tính hợp lệ của mật khẩu\n",
    "\n",
    "def mat_khau_hop_le(pw):\n",
    "    if not (6 <= len(pw) <= 12):\n",
    "        return False\n",
    "    if not any(c.islower() for c in pw):\n",
    "        return False\n",
    "    if not any(c.isupper() for c in pw):\n",
    "        return False\n",
    "    if not any(c.isdigit() for c in pw):\n",
    "        return False\n",
    "    if not any(c in \"@#$\" for c in pw):\n",
    "        return False\n",
    "    return True\n",
    "\n",
    "s = input(\"Nhập các mật khẩu, cách nhau bởi dấu phẩy: \")\n",
    "mat_khau_list = [x.strip() for x in s.split(\",\") if x.strip()]\n",
    "hop_le = [pw for pw in mat_khau_list if mat_khau_hop_le(pw)]\n",
    "print(\"Các mật khẩu hợp lệ là:\", ','.join(hop_le))"
   ]
  }
 ],
 "metadata": {
  "kernelspec": {
   "display_name": "Python 3",
   "language": "python",
   "name": "python3"
  },
  "language_info": {
   "codemirror_mode": {
    "name": "ipython",
    "version": 3
   },
   "file_extension": ".py",
   "mimetype": "text/x-python",
   "name": "python",
   "nbconvert_exporter": "python",
   "pygments_lexer": "ipython3",
   "version": "3.11.5"
  }
 },
 "nbformat": 4,
 "nbformat_minor": 5
}

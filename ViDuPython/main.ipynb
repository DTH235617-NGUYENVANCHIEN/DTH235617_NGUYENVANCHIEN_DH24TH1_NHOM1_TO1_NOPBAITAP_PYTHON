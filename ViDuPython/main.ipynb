{
 "cells": [
  {
   "cell_type": "markdown",
   "id": "0e6760f1",
   "metadata": {},
   "source": [
    "Các ví dụ "
   ]
  },
  {
   "cell_type": "code",
   "execution_count": 37,
   "id": "35c2458c",
   "metadata": {},
   "outputs": [
    {
     "name": "stdout",
     "output_type": "stream",
     "text": [
      "Five is greater than two!\n",
      "6\n",
      "Hello Python\n",
      "True\n",
      "Hello, World!\n"
     ]
    }
   ],
   "source": [
    "#Câu lệnh,khối lệnh và chú thích\n",
    "if 5 > 2:\n",
    "    print('Five is greater than two!')\n",
    "\n",
    "total=1 + \\\n",
    "2 + \\\n",
    "3\n",
    "print(total); print('Hello Python')\n",
    "\n",
    "if True:\n",
    "    print('True')\n",
    "else:\n",
    "    print('False')\n",
    "\n",
    "#This is a comment\n",
    "print('Hello, World!')\n"
   ]
  },
  {
   "cell_type": "code",
   "execution_count": 38,
   "id": "bad7f724",
   "metadata": {},
   "outputs": [
    {
     "name": "stdout",
     "output_type": "stream",
     "text": [
      "What is the meaning of Life, the Universe, and Everything?\n",
      "What is your quest?\n",
      "42\n",
      "To seek the holy grail.\n"
     ]
    }
   ],
   "source": [
    "#Mô đun và gói trong Python\n",
    "import math\n",
    "import os\n",
    "\n",
    "#gọi modun math_libs.py \n",
    "import math_libs\n",
    "math_libs.add(4,5)\n",
    "\n",
    "#gọi modun module1 và module2\n",
    "import module1\n",
    "import module2\n",
    "print(module1.question)\n",
    "print(module2.question)\n",
    "print(module1.answer)\n",
    "print(module2.answer)\n",
    "\n",
    "\n",
    "\n"
   ]
  },
  {
   "cell_type": "markdown",
   "id": "8fbe0012",
   "metadata": {},
   "source": [
    "Bài tập chương 1"
   ]
  },
  {
   "cell_type": "code",
   "execution_count": 39,
   "id": "885a1d08",
   "metadata": {},
   "outputs": [
    {
     "name": "stdout",
     "output_type": "stream",
     "text": [
      "Chao cac ban!\n"
     ]
    }
   ],
   "source": [
    "\n",
    "#câu 4\n",
    "print('Chao cac ban!')"
   ]
  },
  {
   "cell_type": "code",
   "execution_count": 40,
   "id": "17327f49",
   "metadata": {},
   "outputs": [
    {
     "name": "stdout",
     "output_type": "stream",
     "text": [
      "Nguyễn Văn Chiến\n"
     ]
    }
   ],
   "source": [
    "#câu 5\n",
    "print('Nguyễn Văn Chiến')"
   ]
  },
  {
   "cell_type": "code",
   "execution_count": 41,
   "id": "28529fb8",
   "metadata": {},
   "outputs": [
    {
     "name": "stdout",
     "output_type": "stream",
     "text": [
      "Mình về mình có nhớ ta?\n",
      "Mười lăm năm ấy thiết tha mặn nồng.\n",
      "Mình về mình có nhớ không?\n",
      "Nhìn cây nhớ núi nhìn sông nhớ nguồn.\n"
     ]
    }
   ],
   "source": [
    "#câu 6\n",
    "print('Mình về mình có nhớ ta?')\n",
    "print('Mười lăm năm ấy thiết tha mặn nồng.')   \n",
    "print('Mình về mình có nhớ không?')    \n",
    "print('Nhìn cây nhớ núi nhìn sông nhớ nguồn.')    \n",
    "        "
   ]
  },
  {
   "cell_type": "code",
   "execution_count": 42,
   "id": "506ccafd",
   "metadata": {},
   "outputs": [
    {
     "name": "stdout",
     "output_type": "stream",
     "text": [
      "Chuỗi nhập từ tham số dòng lệnh là:\n",
      "Xin chào!\n",
      "['Xin', 'chào!']\n"
     ]
    }
   ],
   "source": [
    "#câu 7\n",
    "!python thamsodonglenh.py Xin chào!"
   ]
  },
  {
   "cell_type": "code",
   "execution_count": 45,
   "id": "0f958ce9",
   "metadata": {},
   "outputs": [
    {
     "name": "stdout",
     "output_type": "stream",
     "text": [
      "* * * * \n",
      "        \n",
      "*     * \n",
      "        \n",
      "*     * \n",
      "        \n",
      "* * * * \n"
     ]
    }
   ],
   "source": [
    "#câu 8\n",
    "\n",
    "def ve_hinh():\n",
    "    # Danh sách tọa độ (hàng, cột) của các dấu *\n",
    "    toa_do = [\n",
    "        (0, 0), (2, 0), (4, 0), (6, 0),  #4 dấu * ở cột đầu\n",
    "        (0, 1), (6,1),                  #dấu * ở hàng giữa\n",
    "        (0, 2),  (6, 2),               #4 dấu * ở cột cuối\n",
    "        (0, 3), (2, 3), (4, 3), (6, 3) #dấu * đường chéo\n",
    "    ]\n",
    "\n",
    "    # Xác định kích thước lưới\n",
    "    max_hang = max(y for y, x in toa_do)\n",
    "    max_cot = max(x for y, x in toa_do)\n",
    "\n",
    "    # Duyệt qua từng dòng để in\n",
    "    for i in range(max_hang + 1):\n",
    "        for j in range(max_cot + 1):\n",
    "            if (i, j) in toa_do:\n",
    "                print(\"*\", end=\" \")\n",
    "            else:\n",
    "                print(\" \", end=\" \")\n",
    "        print()\n",
    "\n",
    "# Gọi hàm để in hình\n",
    "ve_hinh()"
   ]
  }
 ],
 "metadata": {
  "kernelspec": {
   "display_name": "Python 3",
   "language": "python",
   "name": "python3"
  },
  "language_info": {
   "codemirror_mode": {
    "name": "ipython",
    "version": 3
   },
   "file_extension": ".py",
   "mimetype": "text/x-python",
   "name": "python",
   "nbconvert_exporter": "python",
   "pygments_lexer": "ipython3",
   "version": "3.11.5"
  }
 },
 "nbformat": 4,
 "nbformat_minor": 5
}
